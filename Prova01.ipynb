{
 "cells": [
  {
   "cell_type": "code",
   "execution_count": 27,
   "id": "5b0f9cab-a224-4429-a69b-ca3faaec85c3",
   "metadata": {},
   "outputs": [
    {
     "name": "stdin",
     "output_type": "stream",
     "text": [
      "Digite um numero positivo 4\n",
      "Digite um numero positivo 3\n",
      "Digite um numero positivo 4\n"
     ]
    },
    {
     "name": "stdout",
     "output_type": "stream",
     "text": [
      "\n",
      "\u001b[1m A MEDIA DOS DOIS NUMERO MAIORES É:\u001b[0m 4.0\n"
     ]
    }
   ],
   "source": [
    "valor_1 = int(input(\"Digite um numero positivo\"))\n",
    "valor_2 = int(input(\"Digite um numero positivo\"))\n",
    "valor_3 = int(input(\"Digite um numero positivo\"))\n",
    "\n",
    "if valor_1 <= valor_2 and valor_1 <= valor_3:\n",
    "    media = (valor_2 + valor_3) / 2\n",
    "elif valor_2 <= valor_1 and valor_2 <= valor_3:\n",
    "    media = (valor_1 + valor_3) / 2\n",
    "else:\n",
    "    media = (valor_1 + valor_2) / 2\n",
    "\n",
    "print(f\"\\n\\033[1m A MEDIA DOS DOIS NUMERO MAIORES É:\\033[0m {media}\")"
   ]
  },
  {
   "cell_type": "code",
   "execution_count": null,
   "id": "d6113124-892b-43a8-af7d-93212bc52b10",
   "metadata": {},
   "outputs": [],
   "source": []
  }
 ],
 "metadata": {
  "kernelspec": {
   "display_name": "Python [conda env:base] *",
   "language": "python",
   "name": "conda-base-py"
  },
  "language_info": {
   "codemirror_mode": {
    "name": "ipython",
    "version": 3
   },
   "file_extension": ".py",
   "mimetype": "text/x-python",
   "name": "python",
   "nbconvert_exporter": "python",
   "pygments_lexer": "ipython3",
   "version": "3.12.7"
  }
 },
 "nbformat": 4,
 "nbformat_minor": 5
}
