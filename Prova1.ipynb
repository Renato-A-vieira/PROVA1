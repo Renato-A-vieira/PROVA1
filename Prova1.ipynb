{
 "cells": [
  {
   "cell_type": "code",
   "execution_count": 1,
   "id": "066a23df-f7f6-4de7-89cd-bdb42e21c7e1",
   "metadata": {},
   "outputs": [
    {
     "name": "stdin",
     "output_type": "stream",
     "text": [
      "Digite um numero positivo 4\n",
      "Digite um numero positivo 5\n",
      "Digite um numero positivo 7\n"
     ]
    },
    {
     "name": "stdout",
     "output_type": "stream",
     "text": [
      "\n",
      "\u001b[1m A MEDIA DOS DOIS NUMERO MAIORES É:\u001b[0m 6.0\n"
     ]
    }
   ],
   "source": [
    "valor_1 = int(input(\"Digite um numero positivo\"))\n",
    "valor_2 = int(input(\"Digite um numero positivo\"))\n",
    "valor_3 = int(input(\"Digite um numero positivo\"))\n",
    "\n",
    "if valor_1 <= valor_2 and valor_1 <= valor_3:\n",
    "    media = (valor_2 + valor_3) / 2\n",
    "elif valor_2 <= valor_1 and valor_2 <= valor_3:\n",
    "    media = (valor_1 + valor_3) / 2\n",
    "else:\n",
    "    media = (valor_1 + valor_2) / 2\n",
    "\n",
    "print(f\"\\n\\033[1m A MEDIA DOS DOIS NUMERO MAIORES É:\\033[0m {media}\")\n"
   ]
  },
  {
   "cell_type": "code",
   "execution_count": null,
   "id": "b0f9adab-90ae-49f9-a6b8-bb298da2b078",
   "metadata": {},
   "outputs": [],
   "source": []
  }
 ],
 "metadata": {
  "kernelspec": {
   "display_name": "Python [conda env:base] *",
   "language": "python",
   "name": "conda-base-py"
  },
  "language_info": {
   "codemirror_mode": {
    "name": "ipython",
    "version": 3
   },
   "file_extension": ".py",
   "mimetype": "text/x-python",
   "name": "python",
   "nbconvert_exporter": "python",
   "pygments_lexer": "ipython3",
   "version": "3.12.7"
  }
 },
 "nbformat": 4,
 "nbformat_minor": 5
}
